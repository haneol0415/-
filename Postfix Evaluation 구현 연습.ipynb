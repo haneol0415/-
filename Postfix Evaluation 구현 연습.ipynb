{
 "cells": [
  {
   "cell_type": "code",
   "execution_count": 100,
   "metadata": {},
   "outputs": [],
   "source": [
    "class ArrayStack:\n",
    "\n",
    "    def __init__(self):\n",
    "        self.data = []\n",
    "\n",
    "    def size(self):\n",
    "        return len(self.data)\n",
    "\n",
    "    def isEmpty(self):\n",
    "        return self.size() == 0\n",
    "\n",
    "    def push(self, item):\n",
    "        self.data.append(item)\n",
    "\n",
    "    def pop(self):\n",
    "        return self.data.pop()\n",
    "\n",
    "    def peek(self):\n",
    "        return self.data[-1]\n",
    "\n",
    "\n",
    "def splitTokens(exprStr):\n",
    "    tokens = []\n",
    "    val = 0\n",
    "    valProcessing = False\n",
    "    for c in exprStr:\n",
    "        if c == ' ':\n",
    "            continue\n",
    "        if c in '0123456789':\n",
    "            val = val * 10 + int(c)\n",
    "            valProcessing = True\n",
    "        else:\n",
    "            if valProcessing:\n",
    "                tokens.append(val)\n",
    "                val = 0\n",
    "            valProcessing = False\n",
    "            tokens.append(c)\n",
    "    if valProcessing:\n",
    "        tokens.append(val)\n",
    "\n",
    "    return tokens\n",
    "\n",
    "\n",
    "def infixToPostfix(tokenList):\n",
    "    prec = {\n",
    "        '*': 3,\n",
    "        '/': 3,\n",
    "        '+': 2,\n",
    "        '-': 2,\n",
    "        '(': 1,\n",
    "    }\n",
    "\n",
    "    opStack = ArrayStack()\n",
    "    postfixList = []\n",
    "    \n",
    "    for token in tokenList:\n",
    "        if type(token) == int:\n",
    "            postfixList.append(token)\n",
    "        \n",
    "        else:\n",
    "            if token == \"(\":\n",
    "                opStack.push(token)\n",
    "            \n",
    "            elif token in \"*/+-\":\n",
    "                if opStack.isEmpty():\n",
    "                    opStack.push(token)\n",
    "                \n",
    "                elif prec[opStack.peek()] >= prec[token]:\n",
    "                    postfixList.append(opStack.pop())\n",
    "                    opStack.push(token)\n",
    "                \n",
    "                else:    \n",
    "                    opStack.push(token)\n",
    "            \n",
    "            else:\n",
    "                while not opStack.peek() == \"(\":\n",
    "                    postfixList.append(opStack.pop())\n",
    "                opStack.pop()\n",
    "    \n",
    "    while not opStack.isEmpty():\n",
    "        postfixList.append(opStack.pop())\n",
    "        \n",
    "\n",
    "    return postfixList\n",
    "\n",
    "\n",
    "def postfixEval(tokenList):\n",
    "    \n",
    "    valStack = ArrayStack()\n",
    "    \n",
    "    for token in tokenList:\n",
    "        if type(token) == int:\n",
    "            valStack.push(token)\n",
    "        \n",
    "        else:\n",
    "            second = valStack.pop()\n",
    "            first = valStack.pop()\n",
    "            \n",
    "            if token == '*':\n",
    "                valStack.push(first*second)\n",
    "            \n",
    "            elif token == '/':\n",
    "                valStack.push(first/second)\n",
    "            \n",
    "            elif token == '+':\n",
    "                valStack.push(first+second)\n",
    "            \n",
    "            else:\n",
    "                valStack.push(first-second)\n",
    "    \n",
    "    return valStack.pop()\n",
    "\n",
    "\n",
    "def solution(expr):\n",
    "    tokens = splitTokens(expr)\n",
    "    postfix = infixToPostfix(tokens)\n",
    "    val = postfixEval(postfix)\n",
    "    return val"
   ]
  },
  {
   "cell_type": "code",
   "execution_count": 101,
   "metadata": {},
   "outputs": [],
   "source": [
    "expr = \"(1+2)/2+1\""
   ]
  },
  {
   "cell_type": "code",
   "execution_count": 102,
   "metadata": {
    "scrolled": true
   },
   "outputs": [
    {
     "data": {
      "text/plain": [
       "2.5"
      ]
     },
     "execution_count": 102,
     "metadata": {},
     "output_type": "execute_result"
    }
   ],
   "source": [
    "solution(expr)"
   ]
  },
  {
   "cell_type": "code",
   "execution_count": 103,
   "metadata": {
    "scrolled": true
   },
   "outputs": [
    {
     "name": "stdout",
     "output_type": "stream",
     "text": [
      "['(', 1, '+', 2, ')', '/', 2, '+', 1]\n",
      "[1, 2, '+', 2, '/', 1, '+']\n"
     ]
    }
   ],
   "source": [
    "tokens = splitTokens(expr)\n",
    "print(tokens)\n",
    "postfix = infixToPostfix(tokens)\n",
    "print(postfix)"
   ]
  },
  {
   "cell_type": "code",
   "execution_count": null,
   "metadata": {},
   "outputs": [],
   "source": []
  }
 ],
 "metadata": {
  "kernelspec": {
   "display_name": "Python 3",
   "language": "python",
   "name": "python3"
  },
  "language_info": {
   "codemirror_mode": {
    "name": "ipython",
    "version": 3
   },
   "file_extension": ".py",
   "mimetype": "text/x-python",
   "name": "python",
   "nbconvert_exporter": "python",
   "pygments_lexer": "ipython3",
   "version": "3.8.3"
  }
 },
 "nbformat": 4,
 "nbformat_minor": 4
}
