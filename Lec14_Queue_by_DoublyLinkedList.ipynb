{
 "cells": [
  {
   "cell_type": "markdown",
   "metadata": {},
   "source": [
    "# Q using Doubly Linked List\n",
    "\n",
    "ADT이다.  \n",
    "Insertion, deletion이 first-in first-out 으로 수행된다."
   ]
  },
  {
   "cell_type": "markdown",
   "metadata": {},
   "source": [
    "링크드 리스트를 사용하는 이유:\n",
    "Array를 사용할 경우 dequeue에서 O(n) time이 소요된다. why?\n",
    "front에서 자료를 빼고 shifting을 해줘야하기 때문.\n",
    "따라서 Queue는 Doubly Linked List로 구현한다."
   ]
  },
  {
   "cell_type": "code",
   "execution_count": 74,
   "metadata": {},
   "outputs": [],
   "source": [
    "class Node:\n",
    "\n",
    "    def __init__(self, item):\n",
    "        self.data = item\n",
    "        self.prev = None\n",
    "        self.next = None\n",
    "\n",
    "\n",
    "class DoublyLinkedList:\n",
    "\n",
    "    def __init__(self):\n",
    "        self.nodeCount = 0\n",
    "        self.head = Node(None)\n",
    "        self.tail = Node(None)\n",
    "        self.head.prev = None\n",
    "        self.head.next = self.tail\n",
    "        self.tail.prev = self.head\n",
    "        self.tail.next = None\n",
    "\n",
    "    #__str__: 객체를 string으로 변환하게 될 경우 표시되어어야 하는 문자열을 의미합니다.\n",
    "    #__repr__: __str__과 같은 역할을 수행하지만, 우선순위가 낮습니다.\n",
    "    def __repr__(self):\n",
    "        if self.nodeCount == 0:\n",
    "            return 'LinkedList: empty'\n",
    "\n",
    "        s = ''\n",
    "        curr = self.head\n",
    "        while curr.next.next:\n",
    "            curr = curr.next\n",
    "            s += repr(curr.data)\n",
    "            if curr.next.next is not None:\n",
    "                s += ' -> '\n",
    "        return s\n",
    "\n",
    "\n",
    "    def getLength(self):\n",
    "        return self.nodeCount\n",
    "\n",
    "\n",
    "    def traverse(self):\n",
    "        result = []\n",
    "        curr = self.head\n",
    "        while curr.next.next:\n",
    "            curr = curr.next\n",
    "            result.append(curr.data)\n",
    "        return result\n",
    "\n",
    "\n",
    "    def reverse(self):\n",
    "        result = []\n",
    "        curr = self.tail\n",
    "        while curr.prev.prev:\n",
    "            curr = curr.prev\n",
    "            result.append(curr.data)\n",
    "        return result\n",
    "\n",
    "\n",
    "    def getAt(self, pos):\n",
    "        if pos < 0 or pos > self.nodeCount:\n",
    "            return None\n",
    "\n",
    "        if pos > self.nodeCount // 2:\n",
    "            i = 0\n",
    "            curr = self.tail\n",
    "            while i < self.nodeCount - pos + 1:\n",
    "                curr = curr.prev\n",
    "                i += 1\n",
    "        else:\n",
    "            i = 0\n",
    "            curr = self.head\n",
    "            while i < pos:\n",
    "                curr = curr.next\n",
    "                i += 1\n",
    "\n",
    "        return curr\n",
    "\n",
    "\n",
    "    def insertAfter(self, prev, newNode):\n",
    "        next = prev.next\n",
    "        newNode.prev = prev\n",
    "        newNode.next = next\n",
    "        prev.next = newNode\n",
    "        next.prev = newNode\n",
    "        self.nodeCount += 1\n",
    "        return True\n",
    "\n",
    "\n",
    "    def insertAt(self, pos, newNode):\n",
    "        if pos < 1 or pos > self.nodeCount + 1:\n",
    "            return False\n",
    "\n",
    "        prev = self.getAt(pos - 1)\n",
    "        return self.insertAfter(prev, newNode)\n",
    "\n",
    "\n",
    "    def popAfter(self, prev):\n",
    "        curr = prev.next\n",
    "        next = curr.next\n",
    "        prev.next = next\n",
    "        next.prev = prev\n",
    "        self.nodeCount -= 1\n",
    "        return curr.data\n",
    "\n",
    "\n",
    "    def popAt(self, pos):\n",
    "        if pos < 1 or pos > self.nodeCount:\n",
    "            raise IndexError('Index out of range')\n",
    "\n",
    "        prev = self.getAt(pos - 1)\n",
    "        return self.popAfter(prev)\n",
    "\n",
    "\n",
    "    def concat(self, L):\n",
    "        self.tail.prev.next = L.head.next\n",
    "        L.head.next.prev = self.tail.prev\n",
    "        self.tail = L.tail\n",
    "\n",
    "        self.nodeCount += L.nodeCount\n",
    "\n",
    "\n",
    "class LinkedListQueue:\n",
    "\n",
    "    def __init__(self):\n",
    "        self.data = DoublyLinkedList()\n",
    "\n",
    "    def size(self):\n",
    "        return self.data.getLength()\n",
    "\n",
    "\n",
    "    def isEmpty(self):\n",
    "        return self.size() == 0\n",
    "\n",
    "    # O(1) time: Doubly 라서 tail에서 prev로 바로 접근가능\n",
    "    def enqueue(self, item):\n",
    "        node = Node(item)\n",
    "        self.data.insertAt(self.size()+1, node)\n",
    "\n",
    "    \n",
    "    def dequeue(self):\n",
    "        return self.data.popAt(1)\n",
    "\n",
    "\n",
    "    def peek(self):\n",
    "        return self.data.getAt(1).data\n",
    "\n",
    "\n",
    "\n",
    "def solution(x):\n",
    "    return 0"
   ]
  },
  {
   "cell_type": "code",
   "execution_count": 75,
   "metadata": {},
   "outputs": [],
   "source": [
    "Q = LinkedListQueue()"
   ]
  },
  {
   "cell_type": "code",
   "execution_count": 76,
   "metadata": {},
   "outputs": [
    {
     "data": {
      "text/plain": [
       "[11]"
      ]
     },
     "execution_count": 76,
     "metadata": {},
     "output_type": "execute_result"
    }
   ],
   "source": [
    "Q.enqueue(11)\n",
    "Q.data.traverse()"
   ]
  },
  {
   "cell_type": "code",
   "execution_count": 77,
   "metadata": {},
   "outputs": [
    {
     "data": {
      "text/plain": [
       "'11 -> 22 -> 33'"
      ]
     },
     "execution_count": 77,
     "metadata": {},
     "output_type": "execute_result"
    }
   ],
   "source": [
    "Q.enqueue(22)\n",
    "Q.enqueue(33)\n",
    "Q.data.__repr__()\n"
   ]
  },
  {
   "cell_type": "code",
   "execution_count": 78,
   "metadata": {},
   "outputs": [
    {
     "name": "stdout",
     "output_type": "stream",
     "text": [
      "11\n",
      "[22, 33]\n"
     ]
    }
   ],
   "source": [
    "print(Q.dequeue())\n",
    "print(Q.data.traverse())"
   ]
  },
  {
   "cell_type": "code",
   "execution_count": 79,
   "metadata": {},
   "outputs": [
    {
     "data": {
      "text/plain": [
       "22"
      ]
     },
     "execution_count": 79,
     "metadata": {},
     "output_type": "execute_result"
    }
   ],
   "source": [
    "Q.dequeue()"
   ]
  },
  {
   "cell_type": "code",
   "execution_count": null,
   "metadata": {},
   "outputs": [],
   "source": []
  }
 ],
 "metadata": {
  "kernelspec": {
   "display_name": "Python 3",
   "language": "python",
   "name": "python3"
  },
  "language_info": {
   "codemirror_mode": {
    "name": "ipython",
    "version": 3
   },
   "file_extension": ".py",
   "mimetype": "text/x-python",
   "name": "python",
   "nbconvert_exporter": "python",
   "pygments_lexer": "ipython3",
   "version": "3.8.3"
  }
 },
 "nbformat": 4,
 "nbformat_minor": 4
}
