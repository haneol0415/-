{
 "cells": [
  {
   "cell_type": "markdown",
   "metadata": {},
   "source": [
    "## Heap\n",
    "\n",
    "사전: 더미, 쌓다, 쌓아올리다.  \n",
    "\n",
    "Priority Queue의 일종이다.\n",
    "원소 삽입/삭제가 O(log(n))으로 Sorted / Unsorted List보다 빠르다. >> 모든 pair를 비교하지 않기 때문(부분 순서 집합)  \n",
    "  \n",
    "BST와의 차이점: \n",
    "1. BST는 완전히 Inorder로 정렬되어 있으나, Heap은 Level간의 순서만 존재하므로, 순회하며 정렬이 되지 않는다. 따라서 BST는 탐색이 빠르다. Heap은 탐색이 불가능하다.\n",
    "2. BST의 Time Complexity는 h에따라 달라진다. 따라서 삽입/삭제가 O(h)이다. log(n)보다 클 수 있다. Heap은 Complete Binary Tree이기 때문에 insertion, removeMin 연산에서 log(n) time을 가진다. 즉 원소의 삽입/삭제가 빠르다. 이를 정렬에 활용하여 Sorting을 O(nlog(n))에 가능하게 한다. 이를 Heap Sort라고 함.\n",
    "3. Complete Binary Tree라서 Array로 구현이 용이하다. 첫번째로 빈공간 없이 구현할 수 있게 된다. cf) Array로 Binary Tree 구현 시 최대 O(2**n), 최소 O(n) space 이다. 두번째로 node의 추가/삭제가 배열의 끝에서만 발생한다."
   ]
  },
  {
   "cell_type": "code",
   "execution_count": 206,
   "metadata": {},
   "outputs": [],
   "source": [
    "class MaxHeap:\n",
    "\n",
    "    def __init__(self):\n",
    "        self.data = [None]\n",
    "        \n",
    "    \n",
    "    def insert(self, item):\n",
    "        self.data.append(item)\n",
    "        me = len(self.data) - 1\n",
    "        while me > 1:\n",
    "            parent = me // 2\n",
    "            if self.data[me] > self.data[parent]:\n",
    "                self.data[me], self.data[parent] = self.data[parent], self.data[me]\n",
    "                me = parent\n",
    "            else:\n",
    "                break\n",
    "\n",
    "                \n",
    "    def remove(self):\n",
    "        if len(self.data) > 1:\n",
    "            self.data[1], self.data[-1] = self.data[-1], self.data[1]\n",
    "            data = self.data.pop(-1)\n",
    "            self.maxHeapify(1)\n",
    "        else:\n",
    "            data = None\n",
    "        return data\n",
    "\n",
    "\n",
    "    def maxHeapify(self, i):\n",
    "        # 왼쪽 자식 (left child) 의 인덱스를 계산합니다.\n",
    "        left = i*2\n",
    "\n",
    "        # 오른쪽 자식 (right child) 의 인덱스를 계산합니다.\n",
    "        right = i*2+1\n",
    "\n",
    "        smallest = i\n",
    "        # 왼쪽 자식이 존재하는지, 그리고 왼쪽 자식의 (키) 값이 (무엇보다?) 더 큰지를 판단합니다.\n",
    "        if left < len(self.data) and self.data[left] > self.data[i]:\n",
    "            # 조건이 만족하는 경우, smallest 는 왼쪽 자식의 인덱스를 가집니다.\n",
    "            smallest = left\n",
    "\n",
    "        # 오른쪽 자식이 존재하는지, 그리고 오른쪽 자식의 (키) 값이 (무엇보다?) 더 큰지를 판단합니다.\n",
    "        if right < len(self.data) and self.data[right] > self.data[smallest]:\n",
    "            # 조건이 만족하는 경우, smallest 는 오른쪽 자식의 인덱스를 가집니다.\n",
    "            smallest = right\n",
    "\n",
    "        if smallest != i:\n",
    "            # 현재 노드 (인덱스 i) 와 최댓값 노드 (왼쪽 아니면 오른쪽 자식) 를 교체합니다.\n",
    "            self.data[i], self.data[smallest] = self.data[smallest], self.data[i]\n",
    "\n",
    "            # 재귀적 호출을 이용하여 최대 힙의 성질을 만족할 때까지 트리를 정리합니다.\n",
    "            self.maxHeapify(smallest)\n",
    "\n",
    "\n",
    "\n",
    "def solution(x):\n",
    "    return 0"
   ]
  },
  {
   "cell_type": "code",
   "execution_count": 207,
   "metadata": {},
   "outputs": [],
   "source": [
    "heap = MaxHeap()"
   ]
  },
  {
   "cell_type": "code",
   "execution_count": 208,
   "metadata": {},
   "outputs": [
    {
     "name": "stdout",
     "output_type": "stream",
     "text": [
      "[None, 1]\n"
     ]
    }
   ],
   "source": [
    "heap.insert(1)\n",
    "print(heap.data)"
   ]
  },
  {
   "cell_type": "code",
   "execution_count": 209,
   "metadata": {},
   "outputs": [
    {
     "name": "stdout",
     "output_type": "stream",
     "text": [
      "[None, 2, 1]\n"
     ]
    }
   ],
   "source": [
    "heap.insert(2)\n",
    "print(heap.data)"
   ]
  },
  {
   "cell_type": "code",
   "execution_count": 210,
   "metadata": {},
   "outputs": [
    {
     "name": "stdout",
     "output_type": "stream",
     "text": [
      "[None, 3, 1, 2]\n"
     ]
    }
   ],
   "source": [
    "heap.insert(3)\n",
    "print(heap.data)"
   ]
  },
  {
   "cell_type": "code",
   "execution_count": 211,
   "metadata": {},
   "outputs": [
    {
     "name": "stdout",
     "output_type": "stream",
     "text": [
      "[None, 4, 3, 2, 1]\n"
     ]
    }
   ],
   "source": [
    "heap.insert(4)\n",
    "print(heap.data)"
   ]
  },
  {
   "cell_type": "code",
   "execution_count": 212,
   "metadata": {},
   "outputs": [
    {
     "name": "stdout",
     "output_type": "stream",
     "text": [
      "[None, 4, 4, 2, 1, 3]\n"
     ]
    }
   ],
   "source": [
    "heap.insert(4)\n",
    "print(heap.data)"
   ]
  },
  {
   "cell_type": "code",
   "execution_count": 213,
   "metadata": {},
   "outputs": [
    {
     "data": {
      "text/plain": [
       "4"
      ]
     },
     "execution_count": 213,
     "metadata": {},
     "output_type": "execute_result"
    }
   ],
   "source": [
    "heap.remove()"
   ]
  }
 ],
 "metadata": {
  "kernelspec": {
   "display_name": "Python 3",
   "language": "python",
   "name": "python3"
  },
  "language_info": {
   "codemirror_mode": {
    "name": "ipython",
    "version": 3
   },
   "file_extension": ".py",
   "mimetype": "text/x-python",
   "name": "python",
   "nbconvert_exporter": "python",
   "pygments_lexer": "ipython3",
   "version": "3.8.3"
  }
 },
 "nbformat": 4,
 "nbformat_minor": 4
}
