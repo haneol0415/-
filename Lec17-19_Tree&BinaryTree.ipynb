{
 "cells": [
  {
   "cell_type": "code",
   "execution_count": 13,
   "metadata": {},
   "outputs": [],
   "source": [
    "class ArrayQueue:\n",
    "\n",
    "    def __init__(self):\n",
    "        self.data = []\n",
    "\n",
    "    def size(self):\n",
    "        return len(self.data)\n",
    "\n",
    "    def isEmpty(self):\n",
    "        return self.size() == 0\n",
    "\n",
    "    def enqueue(self, item):\n",
    "        self.data.append(item)\n",
    "\n",
    "    def dequeue(self):\n",
    "        return self.data.pop(0)\n",
    "\n",
    "    def peek(self):\n",
    "        return self.data[0]\n"
   ]
  },
  {
   "cell_type": "code",
   "execution_count": 14,
   "metadata": {},
   "outputs": [],
   "source": [
    "class Node:\n",
    "    \n",
    "    def __init__(self, item):\n",
    "        self.data = item\n",
    "        self.left = None\n",
    "        self.right = None\n",
    "        \n",
    "    def size(self):\n",
    "        l = self.left.size() if self.left else 0\n",
    "        r = self.right.size() if self.right else 0\n",
    "        return l + r + 1\n",
    "    \n",
    "    def depth(self):\n",
    "        l = self.left.depth() if self.left else 0\n",
    "        r = self.right.depth() if self.right else 0\n",
    "        return max(l, r) + 1\n",
    "    \n",
    "    def inortder(self):\n",
    "        traversal = []\n",
    "        if self.left:\n",
    "            traversal += self.left.inorder()\n",
    "        traversal.append(self.data)\n",
    "        if self.right:\n",
    "            traversal += self.right.inorder()\n",
    "        return traversal\n",
    "    \n",
    "    def preorder(self):\n",
    "        traversal = []\n",
    "        traversal.append(self.data)\n",
    "        if self.left:\n",
    "            traversal += self.left.preorder()\n",
    "        if self.right:\n",
    "            traversal += self.right.preorder()\n",
    "        return traversal\n",
    "    \n",
    "    def postorder(self):\n",
    "        traversal = []\n",
    "        if self.left:\n",
    "            traversal += self.left.postorder()\n",
    "        if self.right:\n",
    "            traversal += self.right.postorder()\n",
    "        traversal.append(self.data)\n",
    "        return traversal\n",
    "    \n",
    "    \n",
    "class BinaryTree:\n",
    "    \n",
    "    def __init__(self, r):\n",
    "        self.root = r\n",
    "        \n",
    "    def size(self):\n",
    "        if self.root:\n",
    "            return self.root.size()\n",
    "        else:\n",
    "            return 0\n",
    "        \n",
    "    def depth(self):\n",
    "        if self.root:\n",
    "            return self.root.depth()\n",
    "        else:\n",
    "            return 0\n",
    "        \n",
    "    def preorder(self):\n",
    "        if self.root:\n",
    "            return self.root.inorder()\n",
    "        else:\n",
    "            return []\n",
    "    \n",
    "    def preorder(self):\n",
    "        if self.root:\n",
    "            return self.root.preorder()\n",
    "        else:\n",
    "            return []\n",
    "        \n",
    "    def postorder(self):\n",
    "        if self.root:\n",
    "            return self.root.postorder()\n",
    "        else:\n",
    "            return []\n",
    "    \n",
    "    def bft(self):\n",
    "        traversal = []\n",
    "        q = ArrayQueue()\n",
    "        if self.root:\n",
    "            q.enqueue(self.root)\n",
    "            while not q.isEmpty():\n",
    "                node = q.dequeue()\n",
    "                traversal.append(node.data)\n",
    "                if node.left:\n",
    "                    q.enqueue(node.left)\n",
    "                if node.right:\n",
    "                    q.enqueue(node.right)\n",
    "        return traversal\n"
   ]
  },
  {
   "cell_type": "code",
   "execution_count": 15,
   "metadata": {},
   "outputs": [],
   "source": [
    "a=Node('a')\n",
    "b=Node('b')\n",
    "c=Node('c')\n",
    "d=Node('d')\n",
    "e=Node('e')\n",
    "f=Node('f')\n",
    "g=Node('g')"
   ]
  },
  {
   "cell_type": "code",
   "execution_count": 16,
   "metadata": {},
   "outputs": [],
   "source": [
    "a.left = b\n",
    "a.right = c\n",
    "\n",
    "b.left = f\n",
    "\n",
    "c.left = d\n",
    "c.right = e\n",
    "\n",
    "f.right = g"
   ]
  },
  {
   "cell_type": "code",
   "execution_count": 17,
   "metadata": {},
   "outputs": [],
   "source": [
    "t = BinaryTree(a)"
   ]
  },
  {
   "cell_type": "code",
   "execution_count": 18,
   "metadata": {},
   "outputs": [
    {
     "data": {
      "text/plain": [
       "['a', 'b', 'c', 'f', 'd', 'e', 'g']"
      ]
     },
     "execution_count": 18,
     "metadata": {},
     "output_type": "execute_result"
    }
   ],
   "source": [
    "t.bft()"
   ]
  },
  {
   "cell_type": "code",
   "execution_count": null,
   "metadata": {},
   "outputs": [],
   "source": []
  }
 ],
 "metadata": {
  "kernelspec": {
   "display_name": "Python 3",
   "language": "python",
   "name": "python3"
  },
  "language_info": {
   "codemirror_mode": {
    "name": "ipython",
    "version": 3
   },
   "file_extension": ".py",
   "mimetype": "text/x-python",
   "name": "python",
   "nbconvert_exporter": "python",
   "pygments_lexer": "ipython3",
   "version": "3.8.3"
  }
 },
 "nbformat": 4,
 "nbformat_minor": 4
}
